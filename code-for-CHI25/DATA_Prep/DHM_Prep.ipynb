{
 "cells": [
  {
   "cell_type": "code",
   "execution_count": 1,
   "id": "d924ef41",
   "metadata": {},
   "outputs": [
    {
     "name": "stdout",
     "output_type": "stream",
     "text": [
      "Error: 'NoneType' object has no attribute 'ReadAsArray'\n",
      "Error reading DHM data from TIF file.\n"
     ]
    }
   ],
   "source": [
    "from osgeo import gdal\n",
    "\n",
    "def read_dhm_from_tif(file_path):\n",
    "    try:\n",
    "        # Open the TIF file\n",
    "        dataset = gdal.Open(file_path)\n",
    "        # Read the data as a numpy array\n",
    "        dhm_data = dataset.ReadAsArray()\n",
    "\n",
    "        return dhm_data\n",
    "    except Exception as e:\n",
    "        print(\"Error:\", e)\n",
    "        return None\n",
    "\n",
    "def get_highest_lowest_values(dhm_data):\n",
    "    if dhm_data is None:\n",
    "        return None, None\n",
    "    \n",
    "    highest_value = dhm_data.max()\n",
    "    lowest_value = dhm_data.min()\n",
    "    \n",
    "    return highest_value, lowest_value\n",
    "\n",
    "#Task 1 Entlebuch\n",
    "file_path = \"dhm25_dhm25.tif\"\n",
    "\n",
    "#Task 1 Zweisimmen\n",
    "#file_path = \"dhm25_zweisimmen.tif\"\n",
    "#Task 3 Buochs\n",
    "#file_path = \"dhm25_dhm25.tif\"\n",
    "#---------------------------------------\n",
    "dhm_data = read_dhm_from_tif(file_path)\n",
    "\n",
    "if dhm_data is not None:\n",
    "    highest, lowest = get_highest_lowest_values(dhm_data)\n",
    "    print(\"Highest value:\", highest)\n",
    "    print(\"Lowest value:\", lowest)\n",
    "else:\n",
    "    print(\"Error reading DHM data from TIF file.\")"
   ]
  },
  {
   "cell_type": "code",
   "execution_count": 11,
   "id": "7ae99e11",
   "metadata": {},
   "outputs": [
    {
     "name": "stdout",
     "output_type": "stream",
     "text": [
      "1701.7871\n"
     ]
    }
   ],
   "source": [
    "height_diff = highest - lowest\n",
    "print(height_diff)"
   ]
  },
  {
   "cell_type": "code",
   "execution_count": null,
   "id": "8c44b9a8",
   "metadata": {},
   "outputs": [],
   "source": []
  }
 ],
 "metadata": {
  "kernelspec": {
   "display_name": "Python 3 (ipykernel)",
   "language": "python",
   "name": "python3"
  },
  "language_info": {
   "codemirror_mode": {
    "name": "ipython",
    "version": 3
   },
   "file_extension": ".py",
   "mimetype": "text/x-python",
   "name": "python",
   "nbconvert_exporter": "python",
   "pygments_lexer": "ipython3",
   "version": "3.9.13"
  }
 },
 "nbformat": 4,
 "nbformat_minor": 5
}
