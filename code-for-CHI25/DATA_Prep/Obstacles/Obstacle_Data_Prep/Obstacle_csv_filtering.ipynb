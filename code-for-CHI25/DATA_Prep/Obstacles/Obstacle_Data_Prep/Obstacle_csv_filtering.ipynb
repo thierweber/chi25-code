{
 "cells": [
  {
   "cell_type": "code",
   "execution_count": 1,
   "id": "49772264",
   "metadata": {},
   "outputs": [],
   "source": [
    "import pandas as pd\n",
    "from shapely.geometry import Polygon, Point"
   ]
  },
  {
   "cell_type": "markdown",
   "id": "93743cf3",
   "metadata": {},
   "source": [
    "### Buochs"
   ]
  },
  {
   "cell_type": "code",
   "execution_count": 19,
   "id": "11f44ea9",
   "metadata": {},
   "outputs": [
    {
     "name": "stdout",
     "output_type": "stream",
     "text": [
      "Transmission lines and other types have been processed and saved to separate CSV files.\n"
     ]
    }
   ],
   "source": [
    "\n",
    "# Load CSV into a DataFrame\n",
    "df = pd.read_csv(\"Active_Obstacle_2024-04-08.csv\", sep=\"|\")\n",
    "\n",
    "\n",
    "\n",
    "# Define the coordinates of your rectangle\n",
    "# Format: (min_lon, min_lat, max_lon, max_lat)\n",
    "rectangle_coords = (8.280702, 46.933661, 8.659184, 47.113204)\n",
    "\n",
    "# Create a Shapely Polygon object representing the rectangle\n",
    "rectangle_polygon = Polygon([(rectangle_coords[0], rectangle_coords[1]),\n",
    "                             (rectangle_coords[0], rectangle_coords[3]),\n",
    "                             (rectangle_coords[2], rectangle_coords[3]),\n",
    "                             (rectangle_coords[2], rectangle_coords[1])])\n",
    "\n",
    "# Function to check if a point is inside the rectangle\n",
    "def is_inside(point):\n",
    "    return rectangle_polygon.contains(point)\n",
    "\n",
    "# Convert the DataFrame coordinates to Point objects\n",
    "df['point'] = df.apply(lambda row: Point(row['GEO_LON'], row['GEO_LAT']), axis=1)\n",
    "\n",
    "# Filter the DataFrame based on spatial join\n",
    "filtered_df = df[df['point'].apply(is_inside)]\n",
    "\n",
    "# Separate transmission lines from other types\n",
    "cables_df = filtered_df[(filtered_df['TYPE'] == 'TRANSMISSION_LINE') | (filtered_df['TYPE'] == 'BRIDGE') | (filtered_df['TYPE'] == 'CATENARY') | (filtered_df['TYPE'] == 'CABLE_CAR')]\n",
    "poi_df = filtered_df[(filtered_df['TYPE'] != 'TRANSMISSION_LINE') & (filtered_df['TYPE'] != 'BRIDGE') & (filtered_df['TYPE'] != 'CATENARY') & (filtered_df['TYPE'] != 'CABLE_CAR') & (filtered_df['TYPE'] != 'VEGETATION')]\n",
    "\n",
    "\n",
    "\n",
    "cables_df.to_csv(\"cables_buochs.csv\", index=False)\n",
    "poi_df.to_csv(\"poi_obs_buochs.csv\", index=False)\n",
    "\n",
    "print(\"Transmission lines and other types have been processed and saved to separate CSV files.\")"
   ]
  },
  {
   "cell_type": "markdown",
   "id": "46ca6a88",
   "metadata": {},
   "source": [
    "### Entlebuch"
   ]
  },
  {
   "cell_type": "code",
   "execution_count": 4,
   "id": "dcdb89ea",
   "metadata": {},
   "outputs": [
    {
     "name": "stdout",
     "output_type": "stream",
     "text": [
      "Transmission lines and other types have been processed and saved to separate CSV files.\n"
     ]
    }
   ],
   "source": [
    "\n",
    "# Load CSV into a DataFrame\n",
    "df = pd.read_csv(\"Active_Obstacle_2024-04-08.csv\", sep=\"|\")\n",
    "\n",
    "\n",
    "\n",
    "# Define the coordinates of your rectangle\n",
    "# Format: (min_lon, min_lat, max_lon, max_lat)\n",
    "rectangle_coords = (7.679706227,46.997911838, 7.870882212, 47.090505549)\n",
    "\n",
    "# Create a Shapely Polygon object representing the rectangle\n",
    "rectangle_polygon = Polygon([(rectangle_coords[0], rectangle_coords[1]),\n",
    "                             (rectangle_coords[0], rectangle_coords[3]),\n",
    "                             (rectangle_coords[2], rectangle_coords[3]),\n",
    "                             (rectangle_coords[2], rectangle_coords[1])])\n",
    "\n",
    "# Function to check if a point is inside the rectangle\n",
    "def is_inside(point):\n",
    "    return rectangle_polygon.contains(point)\n",
    "\n",
    "# Convert the DataFrame coordinates to Point objects\n",
    "df['point'] = df.apply(lambda row: Point(row['GEO_LON'], row['GEO_LAT']), axis=1)\n",
    "\n",
    "# Filter the DataFrame based on spatial join\n",
    "filtered_df = df[df['point'].apply(is_inside)]\n",
    "\n",
    "# Separate transmission lines from other types\n",
    "cables_df = filtered_df[(filtered_df['TYPE'] == 'TRANSMISSION_LINE') | (filtered_df['TYPE'] == 'BRIDGE') | (filtered_df['TYPE'] == 'CATENARY') | (filtered_df['TYPE'] == 'CABLE_CAR')]\n",
    "poi_df = filtered_df[(filtered_df['TYPE'] != 'TRANSMISSION_LINE') & (filtered_df['TYPE'] != 'BRIDGE') & (filtered_df['TYPE'] != 'CATENARY') & (filtered_df['TYPE'] != 'CABLE_CAR') & (filtered_df['TYPE'] != 'VEGETATION')]\n",
    "\n",
    "\n",
    "\n",
    "cables_df.to_csv(\"cables_entle.csv\", index=False)\n",
    "poi_df.to_csv(\"poi_obs_entle.csv\", index=False)\n",
    "\n",
    "print(\"Transmission lines and other types have been processed and saved to separate CSV files.\")"
   ]
  },
  {
   "cell_type": "markdown",
   "id": "75b4d672",
   "metadata": {},
   "source": [
    "### Zweisimmen"
   ]
  },
  {
   "cell_type": "code",
   "execution_count": 5,
   "id": "c974a654",
   "metadata": {},
   "outputs": [
    {
     "name": "stdout",
     "output_type": "stream",
     "text": [
      "Transmission lines and other types have been processed and saved to separate CSV files.\n"
     ]
    }
   ],
   "source": [
    "\n",
    "# Load CSV into a DataFrame\n",
    "df = pd.read_csv(\"Active_Obstacle_2024-04-08.csv\", sep=\"|\")\n",
    "\n",
    "\n",
    "\n",
    "# Define the coordinates of your rectangle\n",
    "# Format: (min_lon, min_lat, max_lon, max_lat)\n",
    "rectangle_coords = (7.243954846, 46.482449732,7.432560138, 46.575776455)\n",
    "\n",
    "# Create a Shapely Polygon object representing the rectangle\n",
    "rectangle_polygon = Polygon([(rectangle_coords[0], rectangle_coords[1]),\n",
    "                             (rectangle_coords[0], rectangle_coords[3]),\n",
    "                             (rectangle_coords[2], rectangle_coords[3]),\n",
    "                             (rectangle_coords[2], rectangle_coords[1])])\n",
    "\n",
    "# Function to check if a point is inside the rectangle\n",
    "def is_inside(point):\n",
    "    return rectangle_polygon.contains(point)\n",
    "\n",
    "# Convert the DataFrame coordinates to Point objects\n",
    "df['point'] = df.apply(lambda row: Point(row['GEO_LON'], row['GEO_LAT']), axis=1)\n",
    "\n",
    "# Filter the DataFrame based on spatial join\n",
    "filtered_df = df[df['point'].apply(is_inside)]\n",
    "\n",
    "# Separate transmission lines from other types\n",
    "cables_df = filtered_df[(filtered_df['TYPE'] == 'TRANSMISSION_LINE') | (filtered_df['TYPE'] == 'BRIDGE') | (filtered_df['TYPE'] == 'CATENARY') | (filtered_df['TYPE'] == 'CABLE_CAR')]\n",
    "poi_df = filtered_df[(filtered_df['TYPE'] != 'TRANSMISSION_LINE') & (filtered_df['TYPE'] != 'BRIDGE') & (filtered_df['TYPE'] != 'CATENARY') & (filtered_df['TYPE'] != 'CABLE_CAR') & (filtered_df['TYPE'] != 'VEGETATION')]\n",
    "\n",
    "\n",
    "\n",
    "cables_df.to_csv(\"cables_zwei.csv\", index=False)\n",
    "poi_df.to_csv(\"poi_obs_zwei.csv\", index=False)\n",
    "\n",
    "print(\"Transmission lines and other types have been processed and saved to separate CSV files.\")"
   ]
  },
  {
   "cell_type": "markdown",
   "id": "9095631c",
   "metadata": {},
   "source": [
    "### Beromünster"
   ]
  },
  {
   "cell_type": "code",
   "execution_count": 6,
   "id": "8451bfd5",
   "metadata": {},
   "outputs": [
    {
     "name": "stdout",
     "output_type": "stream",
     "text": [
      "Transmission lines and other types have been processed and saved to separate CSV files.\n"
     ]
    }
   ],
   "source": [
    "\n",
    "# Load CSV into a DataFrame\n",
    "df = pd.read_csv(\"Active_Obstacle_2024-04-08.csv\", sep=\"|\")\n",
    "\n",
    "\n",
    "\n",
    "# Define the coordinates of your rectangle\n",
    "# Format: (min_lon, min_lat, max_lon, max_lat)\n",
    "rectangle_coords = (8.111561910, 47.132418070,8.303963716, 47.224286785)\n",
    "\n",
    "# Create a Shapely Polygon object representing the rectangle\n",
    "rectangle_polygon = Polygon([(rectangle_coords[0], rectangle_coords[1]),\n",
    "                             (rectangle_coords[0], rectangle_coords[3]),\n",
    "                             (rectangle_coords[2], rectangle_coords[3]),\n",
    "                             (rectangle_coords[2], rectangle_coords[1])])\n",
    "\n",
    "# Function to check if a point is inside the rectangle\n",
    "def is_inside(point):\n",
    "    return rectangle_polygon.contains(point)\n",
    "\n",
    "# Convert the DataFrame coordinates to Point objects\n",
    "df['point'] = df.apply(lambda row: Point(row['GEO_LON'], row['GEO_LAT']), axis=1)\n",
    "\n",
    "# Filter the DataFrame based on spatial join\n",
    "filtered_df = df[df['point'].apply(is_inside)]\n",
    "\n",
    "# Separate transmission lines from other types\n",
    "cables_df = filtered_df[(filtered_df['TYPE'] == 'TRANSMISSION_LINE') | (filtered_df['TYPE'] == 'BRIDGE') | (filtered_df['TYPE'] == 'CATENARY') | (filtered_df['TYPE'] == 'CABLE_CAR')]\n",
    "poi_df = filtered_df[(filtered_df['TYPE'] != 'TRANSMISSION_LINE') & (filtered_df['TYPE'] != 'BRIDGE') & (filtered_df['TYPE'] != 'CATENARY') & (filtered_df['TYPE'] != 'CABLE_CAR') & (filtered_df['TYPE'] != 'VEGETATION')]\n",
    "\n",
    "\n",
    "\n",
    "cables_df.to_csv(\"cables_bero.csv\", index=False)\n",
    "poi_df.to_csv(\"poi_obs_bero.csv\", index=False)\n",
    "\n",
    "print(\"Transmission lines and other types have been processed and saved to separate CSV files.\")"
   ]
  },
  {
   "cell_type": "markdown",
   "id": "22671535",
   "metadata": {},
   "source": [
    "### Wil"
   ]
  },
  {
   "cell_type": "code",
   "execution_count": 7,
   "id": "03ca3b2d",
   "metadata": {},
   "outputs": [
    {
     "name": "stdout",
     "output_type": "stream",
     "text": [
      "Transmission lines and other types have been processed and saved to separate CSV files.\n"
     ]
    }
   ],
   "source": [
    "\n",
    "# Load CSV into a DataFrame\n",
    "df = pd.read_csv(\"Active_Obstacle_2024-04-08.csv\", sep=\"|\")\n",
    "\n",
    "\n",
    "\n",
    "# Define the coordinates of your rectangle\n",
    "# Format: (min_lon, min_lat, max_lon, max_lat)\n",
    "rectangle_coords = (8.946391593, 47.424559144,9.141281455, 47.515016039)\n",
    "\n",
    "# Create a Shapely Polygon object representing the rectangle\n",
    "rectangle_polygon = Polygon([(rectangle_coords[0], rectangle_coords[1]),\n",
    "                             (rectangle_coords[0], rectangle_coords[3]),\n",
    "                             (rectangle_coords[2], rectangle_coords[3]),\n",
    "                             (rectangle_coords[2], rectangle_coords[1])])\n",
    "\n",
    "# Function to check if a point is inside the rectangle\n",
    "def is_inside(point):\n",
    "    return rectangle_polygon.contains(point)\n",
    "\n",
    "# Convert the DataFrame coordinates to Point objects\n",
    "df['point'] = df.apply(lambda row: Point(row['GEO_LON'], row['GEO_LAT']), axis=1)\n",
    "\n",
    "# Filter the DataFrame based on spatial join\n",
    "filtered_df = df[df['point'].apply(is_inside)]\n",
    "\n",
    "# Separate transmission lines from other types\n",
    "cables_df = filtered_df[(filtered_df['TYPE'] == 'TRANSMISSION_LINE') | (filtered_df['TYPE'] == 'BRIDGE') | (filtered_df['TYPE'] == 'CATENARY') | (filtered_df['TYPE'] == 'CABLE_CAR')]\n",
    "poi_df = filtered_df[(filtered_df['TYPE'] != 'TRANSMISSION_LINE') & (filtered_df['TYPE'] != 'BRIDGE') & (filtered_df['TYPE'] != 'CATENARY') & (filtered_df['TYPE'] != 'CABLE_CAR') & (filtered_df['TYPE'] != 'VEGETATION')]\n",
    "\n",
    "\n",
    "\n",
    "cables_df.to_csv(\"cables_wil.csv\", index=False)\n",
    "poi_df.to_csv(\"poi_obs_wil.csv\", index=False)\n",
    "\n",
    "print(\"Transmission lines and other types have been processed and saved to separate CSV files.\")"
   ]
  },
  {
   "cell_type": "markdown",
   "id": "80e495c0",
   "metadata": {},
   "source": [
    "### Grenchen\n"
   ]
  },
  {
   "cell_type": "code",
   "execution_count": 8,
   "id": "09326b93",
   "metadata": {},
   "outputs": [
    {
     "name": "stdout",
     "output_type": "stream",
     "text": [
      "Transmission lines and other types have been processed and saved to separate CSV files.\n"
     ]
    }
   ],
   "source": [
    "\n",
    "# Load CSV into a DataFrame\n",
    "df = pd.read_csv(\"Active_Obstacle_2024-04-08.csv\", sep=\"|\")\n",
    "\n",
    "\n",
    "\n",
    "# Define the coordinates of your rectangle\n",
    "# Format: (min_lon, min_lat, max_lon, max_lat)\n",
    "rectangle_coords = (7.312679780, 47.130409381,7.503692735, 47.223611202)\n",
    "\n",
    "# Create a Shapely Polygon object representing the rectangle\n",
    "rectangle_polygon = Polygon([(rectangle_coords[0], rectangle_coords[1]),\n",
    "                             (rectangle_coords[0], rectangle_coords[3]),\n",
    "                             (rectangle_coords[2], rectangle_coords[3]),\n",
    "                             (rectangle_coords[2], rectangle_coords[1])])\n",
    "\n",
    "# Function to check if a point is inside the rectangle\n",
    "def is_inside(point):\n",
    "    return rectangle_polygon.contains(point)\n",
    "\n",
    "# Convert the DataFrame coordinates to Point objects\n",
    "df['point'] = df.apply(lambda row: Point(row['GEO_LON'], row['GEO_LAT']), axis=1)\n",
    "\n",
    "# Filter the DataFrame based on spatial join\n",
    "filtered_df = df[df['point'].apply(is_inside)]\n",
    "\n",
    "# Separate transmission lines from other types\n",
    "cables_df = filtered_df[(filtered_df['TYPE'] == 'TRANSMISSION_LINE') | (filtered_df['TYPE'] == 'BRIDGE') | (filtered_df['TYPE'] == 'CATENARY') | (filtered_df['TYPE'] == 'CABLE_CAR')]\n",
    "poi_df = filtered_df[(filtered_df['TYPE'] != 'TRANSMISSION_LINE') & (filtered_df['TYPE'] != 'BRIDGE') & (filtered_df['TYPE'] != 'CATENARY') & (filtered_df['TYPE'] != 'CABLE_CAR') & (filtered_df['TYPE'] != 'VEGETATION')]\n",
    "\n",
    "\n",
    "\n",
    "cables_df.to_csv(\"cables_grenchen.csv\", index=False)\n",
    "poi_df.to_csv(\"poi_obs_grenchen.csv\", index=False)\n",
    "\n",
    "print(\"Transmission lines and other types have been processed and saved to separate CSV files.\")"
   ]
  },
  {
   "cell_type": "code",
   "execution_count": 23,
   "id": "45624f14",
   "metadata": {},
   "outputs": [
    {
     "name": "stdout",
     "output_type": "stream",
     "text": [
      "Unique types present in the DataFrame:\n",
      "BUILDING\n",
      "POLE\n",
      "CRANE\n",
      "STACK\n"
     ]
    }
   ],
   "source": [
    "# Print unique values in the 'TYPE' column\n",
    "unique_types = poi_df['TYPE'].unique()\n",
    "print(\"Unique types present in the DataFrame:\")\n",
    "for type_value in unique_types:\n",
    "    print(type_value)"
   ]
  },
  {
   "cell_type": "code",
   "execution_count": 22,
   "id": "f73001c4",
   "metadata": {},
   "outputs": [
    {
     "name": "stdout",
     "output_type": "stream",
     "text": [
      "Number of null values in the 'TYPE' column: 0\n"
     ]
    }
   ],
   "source": [
    "# Count null values in the 'TYPE' column\n",
    "null_count = poi_df['TYPE'].isnull().sum()\n",
    "\n",
    "print(\"Number of null values in the 'TYPE' column:\", null_count)"
   ]
  },
  {
   "cell_type": "code",
   "execution_count": null,
   "id": "c59c7328",
   "metadata": {},
   "outputs": [],
   "source": []
  }
 ],
 "metadata": {
  "kernelspec": {
   "display_name": "Python 3",
   "language": "python",
   "name": "python3"
  },
  "language_info": {
   "codemirror_mode": {
    "name": "ipython",
    "version": 3
   },
   "file_extension": ".py",
   "mimetype": "text/x-python",
   "name": "python",
   "nbconvert_exporter": "python",
   "pygments_lexer": "ipython3",
   "version": "3.6.12"
  }
 },
 "nbformat": 4,
 "nbformat_minor": 5
}
